{
 "cells": [
  {
   "cell_type": "markdown",
   "metadata": {},
   "source": [
    "# CSV importer"
   ]
  },
  {
   "cell_type": "code",
   "execution_count": 54,
   "metadata": {},
   "outputs": [
    {
     "data": {
      "text/html": [
       "<div>\n",
       "<style scoped>\n",
       "    .dataframe tbody tr th:only-of-type {\n",
       "        vertical-align: middle;\n",
       "    }\n",
       "\n",
       "    .dataframe tbody tr th {\n",
       "        vertical-align: top;\n",
       "    }\n",
       "\n",
       "    .dataframe thead th {\n",
       "        text-align: right;\n",
       "    }\n",
       "</style>\n",
       "<table border=\"1\" class=\"dataframe\">\n",
       "  <thead>\n",
       "    <tr style=\"text-align: right;\">\n",
       "      <th></th>\n",
       "      <th>Country</th>\n",
       "      <th>Date</th>\n",
       "      <th>Status</th>\n",
       "      <th>Description</th>\n",
       "    </tr>\n",
       "  </thead>\n",
       "  <tbody>\n",
       "    <tr>\n",
       "      <th>0</th>\n",
       "      <td>Afghanistan</td>\n",
       "      <td>2020-01-01</td>\n",
       "      <td>0</td>\n",
       "      <td>No measures</td>\n",
       "    </tr>\n",
       "    <tr>\n",
       "      <th>1</th>\n",
       "      <td>Afghanistan</td>\n",
       "      <td>2020-01-02</td>\n",
       "      <td>0</td>\n",
       "      <td>No measures</td>\n",
       "    </tr>\n",
       "    <tr>\n",
       "      <th>2</th>\n",
       "      <td>Afghanistan</td>\n",
       "      <td>2020-01-03</td>\n",
       "      <td>0</td>\n",
       "      <td>No measures</td>\n",
       "    </tr>\n",
       "    <tr>\n",
       "      <th>3</th>\n",
       "      <td>Afghanistan</td>\n",
       "      <td>2020-01-04</td>\n",
       "      <td>0</td>\n",
       "      <td>No measures</td>\n",
       "    </tr>\n",
       "    <tr>\n",
       "      <th>4</th>\n",
       "      <td>Afghanistan</td>\n",
       "      <td>2020-01-05</td>\n",
       "      <td>0</td>\n",
       "      <td>No measures</td>\n",
       "    </tr>\n",
       "  </tbody>\n",
       "</table>\n",
       "</div>"
      ],
      "text/plain": [
       "       Country       Date  Status  Description\n",
       "0  Afghanistan 2020-01-01       0  No measures\n",
       "1  Afghanistan 2020-01-02       0  No measures\n",
       "2  Afghanistan 2020-01-03       0  No measures\n",
       "3  Afghanistan 2020-01-04       0  No measures\n",
       "4  Afghanistan 2020-01-05       0  No measures"
      ]
     },
     "execution_count": 54,
     "metadata": {},
     "output_type": "execute_result"
    }
   ],
   "source": [
    "import pandas as pd\n",
    "import matplotlib as plt\n",
    "\n",
    "# Locate the csv file and read it\n",
    "url = '../butter_team_project/initial_db/stay-at-home-covid.csv'\n",
    "sh = pd.read_csv(url, sep = ',', index_col = False)\n",
    "\n",
    "# Export data filtered by country to .csv\n",
    "def export_data_country(country):\n",
    "    by_country = sh['Country']==country\n",
    "    sh[by_country].to_csv(\"clean_db/stay-at-home_clean.csv\", sep = \",\", index=False)\n",
    "    return 'Successfully exported as .csv'\n",
    "\n",
    "# Create a dictionary for the requirements so we can add their description with the map method\n",
    "sh_description = {0: 'No measures', 1: 'Recommended not to leave the house', 2: 'Required to not leave the house with exceptions for daily exercise, grocery shopping, and essential trips', 3: 'Required to not leave the house with minimal exceptions (e.g. allowed to leave only once every few days, or only one person can leave at a time, etc.'}\n",
    "\n",
    "sh['Description'] = sh['Stay at home requirements (OxBSG)'].map(sh_description)\n",
    "sh.head()\n",
    "\n",
    "# Rename the columns\n",
    "sh = sh.rename({'Stay at home requirements (OxBSG)': 'Status'}, axis=1)\n",
    "sh = sh.rename({'Entity': 'Country'}, axis=1)\n",
    "\n",
    "#Dropping \"codes\" column\n",
    "sh = sh.drop(['Code'], axis=1)\n",
    "\n",
    "#Fixing Data format\n",
    "sh[\"Date\"] = pd.to_datetime(sh[\"Date\"])\n",
    "\n",
    "sh.head()"
   ]
  },
  {
   "cell_type": "markdown",
   "metadata": {},
   "source": [
    "## Call the function to export as a .csv"
   ]
  },
  {
   "cell_type": "code",
   "execution_count": 55,
   "metadata": {},
   "outputs": [
    {
     "data": {
      "text/plain": [
       "'Successfully exported as .csv'"
      ]
     },
     "execution_count": 55,
     "metadata": {},
     "output_type": "execute_result"
    }
   ],
   "source": [
    "# Call the function to Export the data as csv\n",
    "export_data_country(\"Spain\")"
   ]
  },
  {
   "cell_type": "markdown",
   "metadata": {},
   "source": [
    "## Plotting"
   ]
  },
  {
   "cell_type": "code",
   "execution_count": null,
   "metadata": {},
   "outputs": [],
   "source": [
    "#Plotting function\n",
    "def check_status (country):\n",
    "    status_plot = sh.loc[sh[\"country\"] == country]\n",
    "    status_plot.plot()\n",
    "    \n",
    "check_status (\"Spain\")"
   ]
  }
 ],
 "metadata": {
  "kernelspec": {
   "display_name": "Python 3",
   "language": "python",
   "name": "python3"
  },
  "language_info": {
   "codemirror_mode": {
    "name": "ipython",
    "version": 3
   },
   "file_extension": ".py",
   "mimetype": "text/x-python",
   "name": "python",
   "nbconvert_exporter": "python",
   "pygments_lexer": "ipython3",
   "version": "3.8.3"
  }
 },
 "nbformat": 4,
 "nbformat_minor": 4
}
