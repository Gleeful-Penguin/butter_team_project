{
 "cells": [
  {
   "cell_type": "markdown",
   "metadata": {},
   "source": [
    "Figures:"
   ]
  },
  {
   "cell_type": "code",
   "execution_count": 14,
   "metadata": {},
   "outputs": [],
   "source": [
    "#Figure one: Lockdown Vs. Demand Evolution\n",
    "import pandas as pd\n",
    "import matplotlib.pyplot as plt\n",
    "import seaborn as sns\n",
    "%matplotlib inline\n",
    "sns.set()"
   ]
  },
  {
   "cell_type": "code",
   "execution_count": 15,
   "metadata": {},
   "outputs": [],
   "source": [
    "data = pd.read_csv(\"../butter_team_project/sql_merged_data/sh_dem_2020_no_dup.csv\")"
   ]
  },
  {
   "cell_type": "code",
   "execution_count": 26,
   "metadata": {},
   "outputs": [
    {
     "data": {
      "text/html": [
       "<div>\n",
       "<style scoped>\n",
       "    .dataframe tbody tr th:only-of-type {\n",
       "        vertical-align: middle;\n",
       "    }\n",
       "\n",
       "    .dataframe tbody tr th {\n",
       "        vertical-align: top;\n",
       "    }\n",
       "\n",
       "    .dataframe thead th {\n",
       "        text-align: right;\n",
       "    }\n",
       "</style>\n",
       "<table border=\"1\" class=\"dataframe\">\n",
       "  <thead>\n",
       "    <tr style=\"text-align: right;\">\n",
       "      <th></th>\n",
       "      <th>Country</th>\n",
       "      <th>Date</th>\n",
       "      <th>Value</th>\n",
       "      <th>Status</th>\n",
       "      <th>Description</th>\n",
       "    </tr>\n",
       "  </thead>\n",
       "  <tbody>\n",
       "    <tr>\n",
       "      <th>0</th>\n",
       "      <td>Spain</td>\n",
       "      <td>2020-01-01 00:00:00</td>\n",
       "      <td>574721</td>\n",
       "      <td>0</td>\n",
       "      <td>No measures</td>\n",
       "    </tr>\n",
       "    <tr>\n",
       "      <th>1</th>\n",
       "      <td>Spain</td>\n",
       "      <td>2020-01-02 00:00:00</td>\n",
       "      <td>723478</td>\n",
       "      <td>0</td>\n",
       "      <td>No measures</td>\n",
       "    </tr>\n",
       "    <tr>\n",
       "      <th>2</th>\n",
       "      <td>Spain</td>\n",
       "      <td>2020-01-03 00:00:00</td>\n",
       "      <td>754804</td>\n",
       "      <td>0</td>\n",
       "      <td>No measures</td>\n",
       "    </tr>\n",
       "    <tr>\n",
       "      <th>3</th>\n",
       "      <td>Spain</td>\n",
       "      <td>2020-01-04 00:00:00</td>\n",
       "      <td>702360</td>\n",
       "      <td>0</td>\n",
       "      <td>No measures</td>\n",
       "    </tr>\n",
       "    <tr>\n",
       "      <th>4</th>\n",
       "      <td>Spain</td>\n",
       "      <td>2020-01-05 00:00:00</td>\n",
       "      <td>651928</td>\n",
       "      <td>0</td>\n",
       "      <td>No measures</td>\n",
       "    </tr>\n",
       "    <tr>\n",
       "      <th>...</th>\n",
       "      <td>...</td>\n",
       "      <td>...</td>\n",
       "      <td>...</td>\n",
       "      <td>...</td>\n",
       "      <td>...</td>\n",
       "    </tr>\n",
       "    <tr>\n",
       "      <th>158</th>\n",
       "      <td>Spain</td>\n",
       "      <td>2020-06-07 00:00:00</td>\n",
       "      <td>538702</td>\n",
       "      <td>1</td>\n",
       "      <td>Recommended not to leave the house</td>\n",
       "    </tr>\n",
       "    <tr>\n",
       "      <th>159</th>\n",
       "      <td>Spain</td>\n",
       "      <td>2020-06-08 00:00:00</td>\n",
       "      <td>623672</td>\n",
       "      <td>1</td>\n",
       "      <td>Recommended not to leave the house</td>\n",
       "    </tr>\n",
       "    <tr>\n",
       "      <th>160</th>\n",
       "      <td>Spain</td>\n",
       "      <td>2020-06-09 00:00:00</td>\n",
       "      <td>644278</td>\n",
       "      <td>1</td>\n",
       "      <td>Recommended not to leave the house</td>\n",
       "    </tr>\n",
       "    <tr>\n",
       "      <th>161</th>\n",
       "      <td>Spain</td>\n",
       "      <td>2020-06-10 00:00:00</td>\n",
       "      <td>655647</td>\n",
       "      <td>1</td>\n",
       "      <td>Recommended not to leave the house</td>\n",
       "    </tr>\n",
       "    <tr>\n",
       "      <th>162</th>\n",
       "      <td>Spain</td>\n",
       "      <td>2020-06-11 00:00:00</td>\n",
       "      <td>652471</td>\n",
       "      <td>1</td>\n",
       "      <td>Recommended not to leave the house</td>\n",
       "    </tr>\n",
       "  </tbody>\n",
       "</table>\n",
       "<p>163 rows × 5 columns</p>\n",
       "</div>"
      ],
      "text/plain": [
       "    Country                 Date   Value  Status  \\\n",
       "0     Spain  2020-01-01 00:00:00  574721       0   \n",
       "1     Spain  2020-01-02 00:00:00  723478       0   \n",
       "2     Spain  2020-01-03 00:00:00  754804       0   \n",
       "3     Spain  2020-01-04 00:00:00  702360       0   \n",
       "4     Spain  2020-01-05 00:00:00  651928       0   \n",
       "..      ...                  ...     ...     ...   \n",
       "158   Spain  2020-06-07 00:00:00  538702       1   \n",
       "159   Spain  2020-06-08 00:00:00  623672       1   \n",
       "160   Spain  2020-06-09 00:00:00  644278       1   \n",
       "161   Spain  2020-06-10 00:00:00  655647       1   \n",
       "162   Spain  2020-06-11 00:00:00  652471       1   \n",
       "\n",
       "                            Description  \n",
       "0                           No measures  \n",
       "1                           No measures  \n",
       "2                           No measures  \n",
       "3                           No measures  \n",
       "4                           No measures  \n",
       "..                                  ...  \n",
       "158  Recommended not to leave the house  \n",
       "159  Recommended not to leave the house  \n",
       "160  Recommended not to leave the house  \n",
       "161  Recommended not to leave the house  \n",
       "162  Recommended not to leave the house  \n",
       "\n",
       "[163 rows x 5 columns]"
      ]
     },
     "execution_count": 26,
     "metadata": {},
     "output_type": "execute_result"
    }
   ],
   "source": [
    "df=pd.DataFrame(data)\n",
    "df"
   ]
  },
  {
   "cell_type": "code",
   "execution_count": 27,
   "metadata": {},
   "outputs": [
    {
     "data": {
      "text/plain": [
       "[<matplotlib.lines.Line2D at 0x11a425c10>]"
      ]
     },
     "execution_count": 27,
     "metadata": {},
     "output_type": "execute_result"
    },
    {
     "data": {
      "image/png": "[encoded data removed]",
      "text/plain": [
       "<Figure size 720x216 with 1 Axes>"
      ]
     },
     "metadata": {},
     "output_type": "display_data"
    }
   ],
   "source": [
    "fig, ax = plt.subplots(figsize = (10,3))\n",
    "ax.plot(df[\"Date\"], df[\"Value\"])\n",
    "ax.set_title(\"Electricity demand before and during COVID-19 lockdown\")\n",
    "ax.set_xlabel('Date')\n",
    "ax.set_ylabel('Value *unit*')\n",
    "\n",
    "ax.plot(df[\"Date\"], df[\"Status\"])\n",
    "\n",
    "#ax.set_xscale(\"linear\")\n",
    "#ax.set_yscale(\"linear\");\n",
    "\n",
    "#fig2, ax2 = plt.subplots(figsize=(15,5))\n",
    "#ax2.plot(x, x**2, color=\"red\")\n",
    "#ax2.set_xscale(\"log\")\n",
    "#ax2.set_yscale(\"log\")\n",
    "\n",
    "#ax2.plot(x, np.exp(x), color=\"blue\");"
   ]
  }
 ],
 "metadata": {
  "kernelspec": {
   "display_name": "Python 3",
   "language": "python",
   "name": "python3"
  },
  "language_info": {
   "codemirror_mode": {
    "name": "ipython",
    "version": 3
   },
   "file_extension": ".py",
   "mimetype": "text/x-python",
   "name": "python",
   "nbconvert_exporter": "python",
   "pygments_lexer": "ipython3",
   "version": "3.8.3"
  }
 },
 "nbformat": 4,
 "nbformat_minor": 4
}
