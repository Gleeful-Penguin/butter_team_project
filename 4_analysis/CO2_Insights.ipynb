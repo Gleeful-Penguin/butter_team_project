{
 "cells": [
  {
   "cell_type": "markdown",
   "metadata": {},
   "source": [
    "# Finding insights from our data"
   ]
  },
  {
   "cell_type": "code",
   "execution_count": 1,
   "metadata": {},
   "outputs": [],
   "source": [
    "%matplotlib inline\n",
    "import pandas as pd\n",
    "import matplotlib.pyplot as plt\n",
    "import seaborn as sns\n",
    "sns.set()"
   ]
  },
  {
   "cell_type": "code",
   "execution_count": 2,
   "metadata": {},
   "outputs": [],
   "source": [
    "# Locate the csv file and read it - MIX info\n",
    "url_2020 = \"../butter_team_project/sql_merged_data/mix_2020_final.csv\"\n",
    "mix_20 = pd.read_csv(url_2020, sep = ',', index_col = False)\n",
    "\n",
    "url_2019 = \"../butter_team_project/sql_merged_data/mix_2019_final.csv\"\n",
    "mix_19 = pd.read_csv(url_2019, sep = ',', index_col = False)\n",
    "\n",
    "# Locate the csv file and read it - CO2 info\n",
    "url_2020 = \"../butter_team_project/sql_merged_data/co2020.csv\"\n",
    "co2_20 = pd.read_csv(url_2020, sep = ',', index_col = False)\n",
    "\n",
    "url_2019 = \"../butter_team_project/sql_merged_data/co2019.csv\"\n",
    "co2_19 = pd.read_csv(url_2019, sep = ',', index_col = False)"
   ]
  },
  {
   "cell_type": "code",
   "execution_count": 3,
   "metadata": {},
   "outputs": [],
   "source": [
    "df_20 = pd.DataFrame(co2_20)\n",
    "df_19 = pd.DataFrame(co2_19)"
   ]
  },
  {
   "cell_type": "code",
   "execution_count": 4,
   "metadata": {},
   "outputs": [],
   "source": [
    "# Create a new column with the total_value for both years\n",
    "df_20[\"total_value\"] = df_20[\"Value_type_1\"] + df_20[\"Value_type_2\"]\n",
    "df_19[\"total_value\"] = df_19[\"Value_type_1\"] + df_19[\"Value_type_2\"]"
   ]
  },
  {
   "cell_type": "code",
   "execution_count": 5,
   "metadata": {},
   "outputs": [
    {
     "data": {
      "text/html": [
       "<div>\n",
       "<style scoped>\n",
       "    .dataframe tbody tr th:only-of-type {\n",
       "        vertical-align: middle;\n",
       "    }\n",
       "\n",
       "    .dataframe tbody tr th {\n",
       "        vertical-align: top;\n",
       "    }\n",
       "\n",
       "    .dataframe thead th {\n",
       "        text-align: right;\n",
       "    }\n",
       "</style>\n",
       "<table border=\"1\" class=\"dataframe\">\n",
       "  <thead>\n",
       "    <tr style=\"text-align: right;\">\n",
       "      <th></th>\n",
       "      <th>Value_type_1</th>\n",
       "      <th>Value_type_2</th>\n",
       "      <th>total_value</th>\n",
       "    </tr>\n",
       "  </thead>\n",
       "  <tbody>\n",
       "    <tr>\n",
       "      <th>count</th>\n",
       "      <td>167.000000</td>\n",
       "      <td>167.000000</td>\n",
       "      <td>167.000000</td>\n",
       "    </tr>\n",
       "    <tr>\n",
       "      <th>mean</th>\n",
       "      <td>194068.884041</td>\n",
       "      <td>455183.225715</td>\n",
       "      <td>649252.109755</td>\n",
       "    </tr>\n",
       "    <tr>\n",
       "      <th>std</th>\n",
       "      <td>49283.644283</td>\n",
       "      <td>82790.984075</td>\n",
       "      <td>95778.892215</td>\n",
       "    </tr>\n",
       "    <tr>\n",
       "      <th>min</th>\n",
       "      <td>8984.134766</td>\n",
       "      <td>12564.288086</td>\n",
       "      <td>21548.422852</td>\n",
       "    </tr>\n",
       "    <tr>\n",
       "      <th>25%</th>\n",
       "      <td>157227.281250</td>\n",
       "      <td>400775.593750</td>\n",
       "      <td>591035.453125</td>\n",
       "    </tr>\n",
       "    <tr>\n",
       "      <th>50%</th>\n",
       "      <td>182277.359375</td>\n",
       "      <td>451022.500000</td>\n",
       "      <td>641015.734375</td>\n",
       "    </tr>\n",
       "    <tr>\n",
       "      <th>75%</th>\n",
       "      <td>226755.375000</td>\n",
       "      <td>498152.546875</td>\n",
       "      <td>709896.835938</td>\n",
       "    </tr>\n",
       "    <tr>\n",
       "      <th>max</th>\n",
       "      <td>362985.875000</td>\n",
       "      <td>706640.312500</td>\n",
       "      <td>879951.203125</td>\n",
       "    </tr>\n",
       "  </tbody>\n",
       "</table>\n",
       "</div>"
      ],
      "text/plain": [
       "        Value_type_1   Value_type_2    total_value\n",
       "count     167.000000     167.000000     167.000000\n",
       "mean   194068.884041  455183.225715  649252.109755\n",
       "std     49283.644283   82790.984075   95778.892215\n",
       "min      8984.134766   12564.288086   21548.422852\n",
       "25%    157227.281250  400775.593750  591035.453125\n",
       "50%    182277.359375  451022.500000  641015.734375\n",
       "75%    226755.375000  498152.546875  709896.835938\n",
       "max    362985.875000  706640.312500  879951.203125"
      ]
     },
     "execution_count": 5,
     "metadata": {},
     "output_type": "execute_result"
    }
   ],
   "source": [
    "df_20.describe()"
   ]
  },
  {
   "cell_type": "code",
   "execution_count": 6,
   "metadata": {},
   "outputs": [
    {
     "data": {
      "text/html": [
       "<div>\n",
       "<style scoped>\n",
       "    .dataframe tbody tr th:only-of-type {\n",
       "        vertical-align: middle;\n",
       "    }\n",
       "\n",
       "    .dataframe tbody tr th {\n",
       "        vertical-align: top;\n",
       "    }\n",
       "\n",
       "    .dataframe thead th {\n",
       "        text-align: right;\n",
       "    }\n",
       "</style>\n",
       "<table border=\"1\" class=\"dataframe\">\n",
       "  <thead>\n",
       "    <tr style=\"text-align: right;\">\n",
       "      <th></th>\n",
       "      <th>Value_type_1</th>\n",
       "      <th>Value_type_2</th>\n",
       "      <th>total_value</th>\n",
       "    </tr>\n",
       "  </thead>\n",
       "  <tbody>\n",
       "    <tr>\n",
       "      <th>count</th>\n",
       "      <td>166.000000</td>\n",
       "      <td>166.000000</td>\n",
       "      <td>166.000000</td>\n",
       "    </tr>\n",
       "    <tr>\n",
       "      <th>mean</th>\n",
       "      <td>265303.696336</td>\n",
       "      <td>433853.959431</td>\n",
       "      <td>699157.655768</td>\n",
       "    </tr>\n",
       "    <tr>\n",
       "      <th>std</th>\n",
       "      <td>68800.035402</td>\n",
       "      <td>77934.481048</td>\n",
       "      <td>90818.002834</td>\n",
       "    </tr>\n",
       "    <tr>\n",
       "      <th>min</th>\n",
       "      <td>10358.357422</td>\n",
       "      <td>16595.703125</td>\n",
       "      <td>26954.060547</td>\n",
       "    </tr>\n",
       "    <tr>\n",
       "      <th>25%</th>\n",
       "      <td>214900.304688</td>\n",
       "      <td>387622.765625</td>\n",
       "      <td>650972.257812</td>\n",
       "    </tr>\n",
       "    <tr>\n",
       "      <th>50%</th>\n",
       "      <td>259634.046875</td>\n",
       "      <td>431902.687500</td>\n",
       "      <td>694072.375000</td>\n",
       "    </tr>\n",
       "    <tr>\n",
       "      <th>75%</th>\n",
       "      <td>307652.781250</td>\n",
       "      <td>466760.203125</td>\n",
       "      <td>733011.039062</td>\n",
       "    </tr>\n",
       "    <tr>\n",
       "      <th>max</th>\n",
       "      <td>463073.312500</td>\n",
       "      <td>669284.375000</td>\n",
       "      <td>905343.468750</td>\n",
       "    </tr>\n",
       "  </tbody>\n",
       "</table>\n",
       "</div>"
      ],
      "text/plain": [
       "        Value_type_1   Value_type_2    total_value\n",
       "count     166.000000     166.000000     166.000000\n",
       "mean   265303.696336  433853.959431  699157.655768\n",
       "std     68800.035402   77934.481048   90818.002834\n",
       "min     10358.357422   16595.703125   26954.060547\n",
       "25%    214900.304688  387622.765625  650972.257812\n",
       "50%    259634.046875  431902.687500  694072.375000\n",
       "75%    307652.781250  466760.203125  733011.039062\n",
       "max    463073.312500  669284.375000  905343.468750"
      ]
     },
     "execution_count": 6,
     "metadata": {},
     "output_type": "execute_result"
    }
   ],
   "source": [
    "df_19.describe()"
   ]
  },
  {
   "cell_type": "markdown",
   "metadata": {},
   "source": [
    "## Average CO2 emissions 2019 vs 2020"
   ]
  },
  {
   "cell_type": "code",
   "execution_count": 7,
   "metadata": {},
   "outputs": [
    {
     "data": {
      "image/png": "[encoded data removed]",
      "text/plain": [
       "<Figure size 360x360 with 1 Axes>"
      ]
     },
     "metadata": {},
     "output_type": "display_data"
    }
   ],
   "source": [
    "# Create a dataframe with the info needed\n",
    "df_mean = pd.DataFrame(columns=['Date', 'Mean'])\n",
    "\n",
    "df_mean[\"Date\"] = [2019, 2020]\n",
    "df_mean[\"Mean\"] = [df_19.describe()['total_value']['mean'], df_20.describe()['total_value']['mean']]\n",
    "df_mean\n",
    "\n",
    "# Create a plot\n",
    "fig, ax = plt.subplots(figsize = (5,5))\n",
    "ax.set_title(\"Average CO2 emissions 2019 vs 2020\")\n",
    "\n",
    "df_mean.plot(kind='bar',x='Date',y='Mean', ax=ax, color=\"blue\")\n",
    "plt.ylim(600000, 750000);"
   ]
  },
  {
   "cell_type": "markdown",
   "metadata": {},
   "source": [
    "## CO2 emission evolution 2019 vs 2020"
   ]
  },
  {
   "cell_type": "code",
   "execution_count": 72,
   "metadata": {},
   "outputs": [],
   "source": [
    "# Create a new column with the month\n",
    "months_20 = [df_20[\"Date\"][row][5:7] for row in range(len(df_20))]\n",
    "df_20[\"Month\"] = months_20\n",
    "\n",
    "months_19 = [df_19[\"Date\"][row][5:7] for row in range(len(df_19))]\n",
    "df_19[\"Month\"] = months_19\n",
    "\n",
    "# Group by month\n",
    "df_g20 = df_20.groupby(by=\"Month\").agg(\"sum\")\n",
    "df_g19 = df_19.groupby(by=\"Month\").agg(\"sum\")\n",
    "\n",
    "# Flatten the column index\n",
    "#df_g20.columns = df_g20.columns.get_level_values(0)\n",
    "#df_g19.columns = df_g19.columns.get_level_values(0)\n",
    "\n",
    "#df_g20.columns = [''.join(col).strip() for col in df_g20.columns.values]\n",
    "#df_g20.columns\n",
    "\n",
    "# Drop columns that we do not need\n",
    "df_g20 = df_g20.drop([\"Value_type_1\"], axis=1).drop([\"Value_type_2\"], axis=1)\n",
    "df_g19 = df_g19.drop([\"Value_type_1\"], axis=1).drop([\"Value_type_2\"], axis=1)"
   ]
  },
  {
   "cell_type": "code",
   "execution_count": 93,
   "metadata": {},
   "outputs": [
    {
     "data": {
      "image/png": "[encoded data removed]",
      "text/plain": [
       "<Figure size 1440x576 with 2 Axes>"
      ]
     },
     "metadata": {},
     "output_type": "display_data"
    }
   ],
   "source": [
    "# Create a plot\n",
    "fig, ax = plt.subplots(figsize = (20,8))\n",
    "ax2 = ax.twiny()\n",
    "ax2.set_xlim(1000)\n",
    "\n",
    "df_g20.plot.bar(color=\"red\", ax=ax, width=-0.2)\n",
    "df_g19.plot.bar(color=\"blue\", ax=ax2, width=0.2)\n",
    "\n",
    "ax.set_title(\"CO2 emmissions\");"
   ]
  }
 ],
 "metadata": {
  "kernelspec": {
   "display_name": "Python 3",
   "language": "python",
   "name": "python3"
  },
  "language_info": {
   "codemirror_mode": {
    "name": "ipython",
    "version": 3
   },
   "file_extension": ".py",
   "mimetype": "text/x-python",
   "name": "python",
   "nbconvert_exporter": "python",
   "pygments_lexer": "ipython3",
   "version": "3.8.2"
  }
 },
 "nbformat": 4,
 "nbformat_minor": 4
}
